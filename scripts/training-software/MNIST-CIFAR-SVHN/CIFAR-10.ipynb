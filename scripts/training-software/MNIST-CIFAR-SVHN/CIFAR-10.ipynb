{
 "cells": [
  {
   "cell_type": "markdown",
   "id": "ea4e643f",
   "metadata": {},
   "source": [
    "## This code implements the neural network, simulating errors by flipping the sign of the weights of the activation layer, given some probability\n",
    "\n",
    "-"
   ]
  },
  {
   "cell_type": "code",
   "execution_count": 1,
   "id": "50c67a0d",
   "metadata": {},
   "outputs": [],
   "source": [
    "import numpy as np\n",
    "import pickle\n",
    "import matplotlib.pyplot as plt\n",
    "import tensorflow\n",
    "import matplotlib\n",
    "from tensorflow import keras\n",
    "from tensorflow.keras.datasets import cifar10,mnist\n",
    "from tensorflow.keras.utils import to_categorical\n",
    "from tensorflow.keras.optimizers import SGD\n",
    "from tensorflow.keras import backend as K\n",
    "from tensorflow.keras.models import load_model\n",
    "from tensorflow.keras.preprocessing.image import ImageDataGenerator\n",
    "import os\n",
    "import sys\n",
    "sys.path.insert(0, '..')\n",
    "from binarization_utils import *\n",
    "from model_architectures import get_model\n",
    "\n",
    "from tensorflow.keras import activations"
   ]
  },
  {
   "cell_type": "code",
   "execution_count": 2,
   "id": "35228f44",
   "metadata": {},
   "outputs": [
    {
     "name": "stdout",
     "output_type": "stream",
     "text": [
      "2.4.4\n",
      "2.4.0\n"
     ]
    }
   ],
   "source": [
    "print(tf.__version__) #2.4.4\n",
    "print(keras.__version__) #2.4.0"
   ]
  },
  {
   "cell_type": "code",
   "execution_count": 3,
   "id": "621702cd",
   "metadata": {},
   "outputs": [],
   "source": [
    "dataset='CIFAR-10'\n",
    "Train=False\n",
    "Evaluate=True\n",
    "batch_size=100\n",
    "epochs=200"
   ]
  },
  {
   "cell_type": "code",
   "execution_count": 4,
   "id": "18393354",
   "metadata": {},
   "outputs": [],
   "source": [
    "use_generator=True\n",
    "(X_train, y_train), (X_test, y_test) = cifar10.load_data()"
   ]
  },
  {
   "cell_type": "code",
   "execution_count": 5,
   "id": "e74c7aec",
   "metadata": {},
   "outputs": [
    {
     "name": "stdout",
     "output_type": "stream",
     "text": [
      "X_train shape: (50000, 32, 32, 3)\n",
      "50000 train samples\n",
      "10000 test samples\n"
     ]
    }
   ],
   "source": [
    "X_train=X_train.astype(np.float32)\n",
    "X_test=X_test.astype(np.float32)\n",
    "Y_train = to_categorical(y_train, 10)\n",
    "Y_test = to_categorical(y_test, 10)\n",
    "X_train /= 255\n",
    "X_test /= 255\n",
    "X_train=2*X_train-1\n",
    "X_test=2*X_test-1\n",
    "\n",
    "\n",
    "print('X_train shape:', X_train.shape)\n",
    "print(X_train.shape[0], 'train samples')\n",
    "print(X_test.shape[0], 'test samples')"
   ]
  },
  {
   "cell_type": "code",
   "execution_count": 6,
   "id": "949e2086",
   "metadata": {},
   "outputs": [
    {
     "name": "stderr",
     "output_type": "stream",
     "text": [
      "Clipping input data to the valid range for imshow with RGB data ([0..1] for floats or [0..255] for integers).\n"
     ]
    },
    {
     "data": {
      "text/plain": [
       "<matplotlib.image.AxesImage at 0x7fa0f41439d0>"
      ]
     },
     "execution_count": 6,
     "metadata": {},
     "output_type": "execute_result"
    },
    {
     "data": {
      "image/png": "[encoded data removed]",
      "text/plain": [
       "<Figure size 432x288 with 1 Axes>"
      ]
     },
     "metadata": {
      "needs_background": "light"
     },
     "output_type": "display_data"
    }
   ],
   "source": [
    "plt.imshow(X_train[1])"
   ]
  },
  {
   "cell_type": "code",
   "execution_count": 7,
   "id": "df767f24",
   "metadata": {},
   "outputs": [],
   "source": [
    "# the following cell block defines the activation layer that simulates the errors\n",
    "\n",
    "# prob stores the probability of a sign flipping (1 -> -1 or -1 -> 1)\n",
    "prob = 0\n",
    "    \n",
    "class Nonideal_sign(Layer):\n",
    "    def __init__(self, levels=1,**kwargs):\n",
    "        self.levels=levels\n",
    "        super(Nonideal_sign, self).__init__(**kwargs)\n",
    "    def build(self, input_shape):\n",
    "        ars=np.arange(self.levels)+1.0\n",
    "        ars=ars[::-1]\n",
    "        means=ars/np.sum(ars)\n",
    "        self.means=[K.variable(m) for m in means]\n",
    "        self._trainable_weights = self.means\n",
    "    def call(self, x, mask=None):\n",
    "        resid = x\n",
    "        out_bin=0\n",
    "        for l in range(self.levels):\n",
    "            out=binarize(resid)*(K.abs(self.means[l]))*((2*tf.cast(tf.random.uniform(self.means[l].shape) > prob, tf.float32)) - 1)\n",
    "            out_bin=out_bin+out\n",
    "            resid=resid-out\n",
    "        return out_bin\n",
    "    \n",
    "        # the following lines were an idea to implement flips using tensor operations\n",
    "        '''positive_mask = tf.cast(out_bin > 0, tf.float32)\n",
    "        negative_mask = tf.cast(out_bin < 0, tf.float32)\n",
    "        \n",
    "        positive_flips = tf.random.uniform(out_bin.shape) < p[1]\n",
    "        positives = tf.math.multiply(positive_mask, (tf.cast(tf.random.uniform(out_bin.shape) < p[1], tf.float32) - 1))\n",
    "        negatives = tf.math.multiply(negative_mask, (tf.cast(tf.random.uniform(out_bin.shape) < p[0], tf.float32) - 1))\n",
    "        return'''\n",
    "\n",
    "    def get_output_shape_for(self,input_shape):\n",
    "        return input_shape\n",
    "    def compute_output_shape(self,input_shape):\n",
    "        return input_shape\n",
    "    def set_means(self,X):\n",
    "        means=np.zeros((self.levels))\n",
    "        means[0]=1\n",
    "        resid=np.clip(X,-1,1)\n",
    "        approx=0\n",
    "        for l in range(self.levels):\n",
    "            m=np.mean(np.absolute(resid))\n",
    "            out=np.sign(resid)*m\n",
    "            approx=approx+out\n",
    "            resid=resid-out\n",
    "            means[l]=m\n",
    "            err=np.mean((approx-np.clip(X,-1,1))**2)\n",
    "\n",
    "        means=means/np.sum(means)\n",
    "        sess=K.get_session()\n",
    "        sess.run(self.means.assign(means))"
   ]
  },
  {
   "cell_type": "code",
   "execution_count": 8,
   "id": "2110d3bf",
   "metadata": {},
   "outputs": [
    {
     "name": "stderr",
     "output_type": "stream",
     "text": [
      "2021-11-05 23:43:02.523696: I tensorflow/compiler/jit/xla_cpu_device.cc:41] Not creating XLA devices, tf_xla_enable_xla_devices not set\n",
      "2021-11-05 23:43:02.525098: I tensorflow/core/platform/cpu_feature_guard.cc:142] This TensorFlow binary is optimized with oneAPI Deep Neural Network Library (oneDNN) to use the following CPU instructions in performance-critical operations:  AVX2 FMA\n",
      "To enable them in other operations, rebuild TensorFlow with the appropriate compiler flags.\n"
     ]
    }
   ],
   "source": [
    "# construct the network\n",
    "\n",
    "resid_levels=1\n",
    "batch_norm_eps=1e-4\n",
    "batch_norm_alpha=0.1#(this is same as momentum)\n",
    "\n",
    "weights_path='models/'+dataset+'/'+str(resid_levels)+'_residuals.h5'\n",
    "\n",
    "model=Sequential()\n",
    "model.add(binary_conv(nfilters=64,ch_in=3,k=3,padding='valid',input_shape=[32,32,3]))\n",
    "model.add(BatchNormalization(axis=-1, momentum=batch_norm_alpha, epsilon=batch_norm_eps))\n",
    "model.add(Nonideal_sign(levels=resid_levels))\n",
    "model.add(binary_conv(nfilters=64,ch_in=64,k=3,padding='valid'))\n",
    "model.add(BatchNormalization(axis=-1, momentum=batch_norm_alpha, epsilon=batch_norm_eps))\n",
    "model.add(Nonideal_sign(levels=resid_levels))\n",
    "model.add(MaxPooling2D(pool_size=(2, 2),strides=(2,2)))\n",
    "\n",
    "model.add(binary_conv(nfilters=128,ch_in=64,k=3,padding='valid'))\n",
    "model.add(BatchNormalization(axis=-1, momentum=batch_norm_alpha, epsilon=batch_norm_eps))\n",
    "model.add(Nonideal_sign(levels=resid_levels))\n",
    "model.add(binary_conv(nfilters=128,ch_in=128,k=3,padding='valid'))\n",
    "model.add(BatchNormalization(axis=-1, momentum=batch_norm_alpha, epsilon=batch_norm_eps))\n",
    "model.add(Nonideal_sign(levels=resid_levels))\n",
    "model.add(MaxPooling2D(pool_size=(2, 2),strides=(2,2)))\n",
    "\n",
    "model.add(binary_conv(nfilters=256,ch_in=128,k=3,padding='valid'))\n",
    "model.add(BatchNormalization(axis=-1, momentum=batch_norm_alpha, epsilon=batch_norm_eps))\n",
    "model.add(Nonideal_sign(levels=resid_levels))\n",
    "model.add(binary_conv(nfilters=256,ch_in=256,k=3,padding='valid'))\n",
    "model.add(BatchNormalization(axis=-1, momentum=batch_norm_alpha, epsilon=batch_norm_eps))\n",
    "model.add(Nonideal_sign(levels=resid_levels))\n",
    "#model.add(MaxPooling2D(pool_size=(2, 2),strides=(2,2)))\n",
    "\n",
    "model.add(my_flat())\n",
    "\n",
    "model.add(binary_dense(n_in=int(model.output.get_shape()[1]),n_out=512))\n",
    "model.add(BatchNormalization(axis=-1, momentum=batch_norm_alpha, epsilon=batch_norm_eps))\n",
    "model.add(Nonideal_sign(levels=resid_levels))\n",
    "model.add(binary_dense(n_in=int(model.output.get_shape()[1]),n_out=512))\n",
    "model.add(BatchNormalization(axis=-1, momentum=batch_norm_alpha, epsilon=batch_norm_eps))\n",
    "model.add(Nonideal_sign(levels=resid_levels))\n",
    "model.add(binary_dense(n_in=int(model.output.get_shape()[1]),n_out=10))\n",
    "model.add(BatchNormalization(axis=-1, momentum=batch_norm_alpha, epsilon=batch_norm_eps))\n",
    "model.add(Activation(activations.softmax))"
   ]
  },
  {
   "cell_type": "code",
   "execution_count": 9,
   "id": "803a9a82",
   "metadata": {},
   "outputs": [],
   "source": [
    "model.load_weights(weights_path)\n",
    "opt = keras.optimizers.Adam()"
   ]
  },
  {
   "cell_type": "code",
   "execution_count": 10,
   "id": "747bec5e",
   "metadata": {
    "scrolled": true
   },
   "outputs": [
    {
     "name": "stderr",
     "output_type": "stream",
     "text": [
      "2021-11-05 23:43:06.019859: I tensorflow/compiler/mlir/mlir_graph_optimization_pass.cc:116] None of the MLIR optimization passes are enabled (registered 2)\n"
     ]
    },
    {
     "name": "stdout",
     "output_type": "stream",
     "text": [
      "with 1 residuals, test loss was 4.4420, test accuracy was 0.2270\n"
     ]
    }
   ],
   "source": [
    "# probability of sign activation error\n",
    "prob = 0.2\n",
    "\n",
    "model.compile(loss='categorical_crossentropy',optimizer=opt,metrics=['accuracy'])\n",
    "#model.summary()\n",
    "score=model.evaluate(X_test,Y_test,verbose=0)\n",
    "print(\"with %d residuals, test loss was %0.4f, test accuracy was %0.4f\"%(resid_levels,score[0],score[1]))"
   ]
  },
  {
   "cell_type": "code",
   "execution_count": 11,
   "id": "28046321",
   "metadata": {},
   "outputs": [
    {
     "name": "stdout",
     "output_type": "stream",
     "text": [
      "with 1 residuals, test loss was 0.6251, test accuracy was 0.7870\n",
      "with 1 residuals, test loss was 0.6251, test accuracy was 0.7870\n",
      "with 1 residuals, test loss was 0.6251, test accuracy was 0.7870\n",
      "with 1 residuals, test loss was 0.6251, test accuracy was 0.7870\n",
      "with 1 residuals, test loss was 0.6251, test accuracy was 0.7870\n",
      "with 1 residuals, test loss was 0.6251, test accuracy was 0.7870\n",
      "with 1 residuals, test loss was 0.6251, test accuracy was 0.7870\n",
      "with 1 residuals, test loss was 0.6251, test accuracy was 0.7870\n",
      "with 1 residuals, test loss was 0.6251, test accuracy was 0.7870\n",
      "with 1 residuals, test loss was 0.6251, test accuracy was 0.7870\n",
      "with 1 residuals, test loss was 0.6251, test accuracy was 0.7870\n",
      "with 1 residuals, test loss was 0.6251, test accuracy was 0.7870\n",
      "with 1 residuals, test loss was 0.6251, test accuracy was 0.7870\n",
      "with 1 residuals, test loss was 0.6251, test accuracy was 0.7870\n",
      "with 1 residuals, test loss was 0.6251, test accuracy was 0.7870\n",
      "with 1 residuals, test loss was 0.6251, test accuracy was 0.7870\n",
      "with 1 residuals, test loss was 0.6251, test accuracy was 0.7870\n",
      "with 1 residuals, test loss was 0.6251, test accuracy was 0.7870\n",
      "with 1 residuals, test loss was 0.6251, test accuracy was 0.7870\n",
      "with 1 residuals, test loss was 0.6251, test accuracy was 0.7870\n",
      "with 1 residuals, test loss was 0.6251, test accuracy was 0.7870\n",
      "with 1 residuals, test loss was 0.6251, test accuracy was 0.7870\n",
      "with 1 residuals, test loss was 0.6251, test accuracy was 0.7870\n",
      "with 1 residuals, test loss was 0.6251, test accuracy was 0.7870\n",
      "with 1 residuals, test loss was 0.6251, test accuracy was 0.7870\n",
      "with 1 residuals, test loss was 0.6251, test accuracy was 0.7870\n",
      "with 1 residuals, test loss was 0.6472, test accuracy was 0.7842\n",
      "with 1 residuals, test loss was 0.6567, test accuracy was 0.7844\n",
      "with 1 residuals, test loss was 0.6251, test accuracy was 0.7870\n",
      "with 1 residuals, test loss was 0.6363, test accuracy was 0.7857\n",
      "with 1 residuals, test loss was 0.6577, test accuracy was 0.7845\n",
      "with 1 residuals, test loss was 0.6844, test accuracy was 0.7803\n",
      "with 1 residuals, test loss was 0.6251, test accuracy was 0.7870\n",
      "with 1 residuals, test loss was 0.6963, test accuracy was 0.7799\n",
      "with 1 residuals, test loss was 0.6982, test accuracy was 0.7792\n",
      "with 1 residuals, test loss was 0.6947, test accuracy was 0.7779\n",
      "with 1 residuals, test loss was 0.9015, test accuracy was 0.7585\n",
      "with 1 residuals, test loss was 0.6615, test accuracy was 0.7823\n",
      "with 1 residuals, test loss was 0.8385, test accuracy was 0.7601\n",
      "with 1 residuals, test loss was 0.9139, test accuracy was 0.7499\n",
      "with 1 residuals, test loss was 0.9916, test accuracy was 0.7437\n",
      "with 1 residuals, test loss was 1.0585, test accuracy was 0.7391\n",
      "with 1 residuals, test loss was 1.2497, test accuracy was 0.7125\n",
      "with 1 residuals, test loss was 1.2712, test accuracy was 0.7098\n",
      "with 1 residuals, test loss was 1.6564, test accuracy was 0.6605\n",
      "with 1 residuals, test loss was 2.1158, test accuracy was 0.6066\n",
      "with 1 residuals, test loss was 2.2973, test accuracy was 0.5751\n",
      "with 1 residuals, test loss was 2.5882, test accuracy was 0.5417\n",
      "with 1 residuals, test loss was 3.1557, test accuracy was 0.4584\n",
      "with 1 residuals, test loss was 3.4894, test accuracy was 0.3982\n"
     ]
    }
   ],
   "source": [
    "# test the neural network with varying error probabilities\n",
    "probs = np.logspace(-7, -1)\n",
    "errors = []\n",
    "\n",
    "for p in probs:\n",
    "    prob = p\n",
    "    model.compile(loss='categorical_crossentropy',optimizer=opt,metrics=['accuracy'])\n",
    "    #model.summary()\n",
    "    score=model.evaluate(X_test,Y_test,verbose=0)\n",
    "    print(\"with %d residuals, test loss was %0.4f, test accuracy was %0.4f\"%(resid_levels,score[0],score[1]))\n",
    "    errors = errors + [score[1]]\n",
    "    "
   ]
  },
  {
   "cell_type": "code",
   "execution_count": 13,
   "id": "c9fa51db",
   "metadata": {},
   "outputs": [
    {
     "data": {
      "text/plain": [
       "[<matplotlib.lines.Line2D at 0x7fa01ee890a0>]"
      ]
     },
     "execution_count": 13,
     "metadata": {},
     "output_type": "execute_result"
    },
    {
     "data": {
      "image/png": "[encoded data removed]",
      "text/plain": [
       "<Figure size 432x288 with 1 Axes>"
      ]
     },
     "metadata": {
      "needs_background": "light"
     },
     "output_type": "display_data"
    }
   ],
   "source": [
    "# plot the results\n",
    "plt.plot(probs, errors)"
   ]
  },
  {
   "cell_type": "code",
   "execution_count": null,
   "id": "087274e1",
   "metadata": {},
   "outputs": [],
   "source": []
  }
 ],
 "metadata": {
  "kernelspec": {
   "display_name": "Python 3 (ipykernel)",
   "language": "python",
   "name": "python3"
  },
  "language_info": {
   "codemirror_mode": {
    "name": "ipython",
    "version": 3
   },
   "file_extension": ".py",
   "mimetype": "text/x-python",
   "name": "python",
   "nbconvert_exporter": "python",
   "pygments_lexer": "ipython3",
   "version": "3.8.12"
  },
  "widgets": {
   "state": {},
   "version": "1.1.2"
  }
 },
 "nbformat": 4,
 "nbformat_minor": 5
}
