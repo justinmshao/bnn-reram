{
 "cells": [
  {
   "cell_type": "markdown",
   "id": "597bb25f",
   "metadata": {},
   "source": [
    "## This code implements the neural network, simulating errors by flipping the sign of the weights of the activation layer, given some probability\n",
    "\n",
    "-"
   ]
  },
  {
   "cell_type": "code",
   "execution_count": 1,
   "id": "50c67a0d",
   "metadata": {},
   "outputs": [],
   "source": [
    "import numpy as np\n",
    "import pickle\n",
    "import matplotlib.pyplot as plt\n",
    "import tensorflow\n",
    "import matplotlib\n",
    "from tensorflow import keras\n",
    "from tensorflow.keras.datasets import cifar10,mnist\n",
    "from tensorflow.keras.utils import to_categorical\n",
    "from tensorflow.keras.optimizers import SGD\n",
    "from tensorflow.keras import backend as K\n",
    "from tensorflow.keras.models import load_model\n",
    "from tensorflow.keras.preprocessing.image import ImageDataGenerator\n",
    "import os\n",
    "import sys\n",
    "sys.path.insert(0, '..')\n",
    "from binarization_utils import *\n",
    "from model_architectures import get_model\n",
    "\n",
    "from tensorflow.keras import activations"
   ]
  },
  {
   "cell_type": "code",
   "execution_count": 2,
   "id": "35228f44",
   "metadata": {},
   "outputs": [
    {
     "name": "stdout",
     "output_type": "stream",
     "text": [
      "2.4.4\n",
      "2.4.0\n"
     ]
    }
   ],
   "source": [
    "print(tf.__version__) #2.4.4\n",
    "print(keras.__version__) #2.4.0"
   ]
  },
  {
   "cell_type": "code",
   "execution_count": 14,
   "id": "621702cd",
   "metadata": {},
   "outputs": [],
   "source": [
    "dataset='MNIST'\n",
    "Train=False\n",
    "Evaluate=True\n",
    "batch_size=100\n",
    "epochs=200"
   ]
  },
  {
   "cell_type": "code",
   "execution_count": 15,
   "id": "18393354",
   "metadata": {},
   "outputs": [],
   "source": [
    "if dataset==\"MNIST\":\n",
    "    (X_train, y_train), (X_test, y_test) = mnist.load_data()\n",
    "    # convert class vectors to binary class matrices\n",
    "    X_train = X_train.reshape(-1,784)\n",
    "    X_test = X_test.reshape(-1,784)\n",
    "    use_generator=False\n",
    "elif dataset==\"CIFAR-10\":\n",
    "    use_generator=True\n",
    "    (X_train, y_train), (X_test, y_test) = cifar10.load_data()"
   ]
  },
  {
   "cell_type": "code",
   "execution_count": 16,
   "id": "e74c7aec",
   "metadata": {},
   "outputs": [
    {
     "name": "stdout",
     "output_type": "stream",
     "text": [
      "X_train shape: (60000, 784)\n",
      "60000 train samples\n",
      "10000 test samples\n"
     ]
    }
   ],
   "source": [
    "X_train=X_train.astype(np.float32)\n",
    "X_test=X_test.astype(np.float32)\n",
    "Y_train = to_categorical(y_train, 10)\n",
    "Y_test = to_categorical(y_test, 10)\n",
    "X_train /= 255\n",
    "X_test /= 255\n",
    "X_train=2*X_train-1\n",
    "X_test=2*X_test-1\n",
    "\n",
    "\n",
    "print('X_train shape:', X_train.shape)\n",
    "print(X_train.shape[0], 'train samples')\n",
    "print(X_test.shape[0], 'test samples')"
   ]
  },
  {
   "cell_type": "code",
   "execution_count": 19,
   "id": "949e2086",
   "metadata": {},
   "outputs": [],
   "source": [
    "if dataset==\"CIFAR-10\":\n",
    "    plt.imshow(X_train[1])"
   ]
  },
  {
   "cell_type": "code",
   "execution_count": 20,
   "id": "df767f24",
   "metadata": {},
   "outputs": [],
   "source": [
    "# the following cell block defines the activation layer that simulates the errors\n",
    "\n",
    "# prob stores the probability of a sign flipping (1 -> -1 or -1 -> 1)\n",
    "prob = 0\n",
    "    \n",
    "class Nonideal_sign(Layer):\n",
    "    def __init__(self, levels=1,**kwargs):\n",
    "        self.levels=levels\n",
    "        super(Nonideal_sign, self).__init__(**kwargs)\n",
    "    def build(self, input_shape):\n",
    "        ars=np.arange(self.levels)+1.0\n",
    "        ars=ars[::-1]\n",
    "        means=ars/np.sum(ars)\n",
    "        self.means=[K.variable(m) for m in means]\n",
    "        self._trainable_weights = self.means\n",
    "    def call(self, x, mask=None):\n",
    "        resid = x\n",
    "        out_bin=0\n",
    "        for l in range(self.levels):\n",
    "            out=binarize(resid)*(K.abs(self.means[l]))*((2*tf.cast(tf.random.uniform(self.means[l].shape) > prob, tf.float32)) - 1)\n",
    "            out_bin=out_bin+out\n",
    "            resid=resid-out\n",
    "        return out_bin\n",
    "    \n",
    "        # the following lines were an idea to implement flips using tensor operations\n",
    "        '''positive_mask = tf.cast(out_bin > 0, tf.float32)\n",
    "        negative_mask = tf.cast(out_bin < 0, tf.float32)\n",
    "        \n",
    "        positive_flips = tf.random.uniform(out_bin.shape) < p[1]\n",
    "        positives = tf.math.multiply(positive_mask, (tf.cast(tf.random.uniform(out_bin.shape) < p[1], tf.float32) - 1))\n",
    "        negatives = tf.math.multiply(negative_mask, (tf.cast(tf.random.uniform(out_bin.shape) < p[0], tf.float32) - 1))\n",
    "        return'''\n",
    "\n",
    "    def get_output_shape_for(self,input_shape):\n",
    "        return input_shape\n",
    "    def compute_output_shape(self,input_shape):\n",
    "        return input_shape\n",
    "    def set_means(self,X):\n",
    "        means=np.zeros((self.levels))\n",
    "        means[0]=1\n",
    "        resid=np.clip(X,-1,1)\n",
    "        approx=0\n",
    "        for l in range(self.levels):\n",
    "            m=np.mean(np.absolute(resid))\n",
    "            out=np.sign(resid)*m\n",
    "            approx=approx+out\n",
    "            resid=resid-out\n",
    "            means[l]=m\n",
    "            err=np.mean((approx-np.clip(X,-1,1))**2)\n",
    "\n",
    "        means=means/np.sum(means)\n",
    "        sess=K.get_session()\n",
    "        sess.run(self.means.assign(means))"
   ]
  },
  {
   "cell_type": "code",
   "execution_count": 21,
   "id": "2110d3bf",
   "metadata": {},
   "outputs": [],
   "source": [
    "# construct the network\n",
    "\n",
    "resid_levels=1\n",
    "batch_norm_eps=1e-4\n",
    "batch_norm_alpha=0.1#(this is same as momentum)\n",
    "\n",
    "weights_path='models/'+dataset+'/'+str(resid_levels)+'_residuals.h5'\n",
    "if dataset==\"MNIST\":\n",
    "    model=Sequential()\n",
    "    model.add(binary_dense(n_in=784,n_out=256,input_shape=[784]))\n",
    "    model.add(BatchNormalization(axis=-1, momentum=batch_norm_alpha, epsilon=batch_norm_eps))\n",
    "    model.add(Nonideal_sign(levels=resid_levels))\n",
    "    model.add(binary_dense(n_in=int(model.output.get_shape()[1]),n_out=256))\n",
    "    model.add(BatchNormalization(axis=-1, momentum=batch_norm_alpha, epsilon=batch_norm_eps))\n",
    "    model.add(Nonideal_sign(levels=resid_levels))\n",
    "    model.add(binary_dense(n_in=int(model.output.get_shape()[1]),n_out=256))\n",
    "    model.add(BatchNormalization(axis=-1, momentum=batch_norm_alpha, epsilon=batch_norm_eps))\n",
    "    model.add(Nonideal_sign(levels=resid_levels))\n",
    "    model.add(binary_dense(n_in=int(model.output.get_shape()[1]),n_out=256))\n",
    "    model.add(BatchNormalization(axis=-1, momentum=batch_norm_alpha, epsilon=batch_norm_eps))\n",
    "    model.add(Nonideal_sign(levels=resid_levels))\n",
    "    model.add(binary_dense(n_in=int(model.output.get_shape()[1]),n_out=10))\n",
    "    model.add(BatchNormalization(axis=-1, momentum=batch_norm_alpha, epsilon=batch_norm_eps))\n",
    "    model.add(Activation('softmax'))\n",
    "elif dataset==\"CIFAR-10\":\n",
    "    model=Sequential()\n",
    "    model.add(binary_conv(nfilters=64,ch_in=3,k=3,padding='valid',input_shape=[32,32,3]))\n",
    "    model.add(BatchNormalization(axis=-1, momentum=batch_norm_alpha, epsilon=batch_norm_eps))\n",
    "    model.add(Nonideal_sign(levels=resid_levels))\n",
    "    model.add(binary_conv(nfilters=64,ch_in=64,k=3,padding='valid'))\n",
    "    model.add(BatchNormalization(axis=-1, momentum=batch_norm_alpha, epsilon=batch_norm_eps))\n",
    "    model.add(Nonideal_sign(levels=resid_levels))\n",
    "    model.add(MaxPooling2D(pool_size=(2, 2),strides=(2,2)))\n",
    "\n",
    "    model.add(binary_conv(nfilters=128,ch_in=64,k=3,padding='valid'))\n",
    "    model.add(BatchNormalization(axis=-1, momentum=batch_norm_alpha, epsilon=batch_norm_eps))\n",
    "    model.add(Nonideal_sign(levels=resid_levels))\n",
    "    model.add(binary_conv(nfilters=128,ch_in=128,k=3,padding='valid'))\n",
    "    model.add(BatchNormalization(axis=-1, momentum=batch_norm_alpha, epsilon=batch_norm_eps))\n",
    "    model.add(Nonideal_sign(levels=resid_levels))\n",
    "    model.add(MaxPooling2D(pool_size=(2, 2),strides=(2,2)))\n",
    "\n",
    "    model.add(binary_conv(nfilters=256,ch_in=128,k=3,padding='valid'))\n",
    "    model.add(BatchNormalization(axis=-1, momentum=batch_norm_alpha, epsilon=batch_norm_eps))\n",
    "    model.add(Nonideal_sign(levels=resid_levels))\n",
    "    model.add(binary_conv(nfilters=256,ch_in=256,k=3,padding='valid'))\n",
    "    model.add(BatchNormalization(axis=-1, momentum=batch_norm_alpha, epsilon=batch_norm_eps))\n",
    "    model.add(Nonideal_sign(levels=resid_levels))\n",
    "    #model.add(MaxPooling2D(pool_size=(2, 2),strides=(2,2)))\n",
    "\n",
    "    model.add(my_flat())\n",
    "\n",
    "    model.add(binary_dense(n_in=int(model.output.get_shape()[1]),n_out=512))\n",
    "    model.add(BatchNormalization(axis=-1, momentum=batch_norm_alpha, epsilon=batch_norm_eps))\n",
    "    model.add(Nonideal_sign(levels=resid_levels))\n",
    "    model.add(binary_dense(n_in=int(model.output.get_shape()[1]),n_out=512))\n",
    "    model.add(BatchNormalization(axis=-1, momentum=batch_norm_alpha, epsilon=batch_norm_eps))\n",
    "    model.add(Nonideal_sign(levels=resid_levels))\n",
    "    model.add(binary_dense(n_in=int(model.output.get_shape()[1]),n_out=10))\n",
    "    model.add(BatchNormalization(axis=-1, momentum=batch_norm_alpha, epsilon=batch_norm_eps))\n",
    "    model.add(Activation(activations.softmax))"
   ]
  },
  {
   "cell_type": "code",
   "execution_count": 22,
   "id": "803a9a82",
   "metadata": {},
   "outputs": [],
   "source": [
    "model.load_weights(weights_path)\n",
    "opt = keras.optimizers.Adam()"
   ]
  },
  {
   "cell_type": "code",
   "execution_count": 27,
   "id": "a58016fa",
   "metadata": {
    "scrolled": true
   },
   "outputs": [
    {
     "name": "stdout",
     "output_type": "stream",
     "text": [
      "with 1 residuals, test loss was 1.9519, test accuracy was 0.6527\n"
     ]
    }
   ],
   "source": [
    "# probability of sign activation error\n",
    "prob = 1\n",
    "\n",
    "model.compile(loss='categorical_crossentropy',optimizer=opt,metrics=['accuracy'])\n",
    "#model.summary()\n",
    "score=model.evaluate(X_test,Y_test,verbose=0)\n",
    "print(\"with %d residuals, test loss was %0.4f, test accuracy was %0.4f\"%(resid_levels,score[0],score[1]))"
   ]
  },
  {
   "cell_type": "code",
   "execution_count": 28,
   "id": "039a10a1",
   "metadata": {},
   "outputs": [
    {
     "name": "stdout",
     "output_type": "stream",
     "text": [
      "with 1 residuals, test loss was 0.1201, test accuracy was 0.9790\n",
      "with 1 residuals, test loss was 0.1201, test accuracy was 0.9790\n",
      "with 1 residuals, test loss was 0.1201, test accuracy was 0.9790\n",
      "with 1 residuals, test loss was 0.1201, test accuracy was 0.9790\n",
      "with 1 residuals, test loss was 0.1201, test accuracy was 0.9790\n",
      "with 1 residuals, test loss was 0.1201, test accuracy was 0.9790\n",
      "with 1 residuals, test loss was 0.1201, test accuracy was 0.9790\n",
      "with 1 residuals, test loss was 0.1201, test accuracy was 0.9790\n",
      "with 1 residuals, test loss was 0.1201, test accuracy was 0.9790\n",
      "with 1 residuals, test loss was 0.1201, test accuracy was 0.9790\n",
      "with 1 residuals, test loss was 0.1201, test accuracy was 0.9790\n",
      "with 1 residuals, test loss was 0.1201, test accuracy was 0.9790\n",
      "with 1 residuals, test loss was 0.1201, test accuracy was 0.9790\n",
      "with 1 residuals, test loss was 0.1201, test accuracy was 0.9790\n",
      "with 1 residuals, test loss was 0.1201, test accuracy was 0.9790\n",
      "with 1 residuals, test loss was 0.1201, test accuracy was 0.9790\n",
      "with 1 residuals, test loss was 0.1201, test accuracy was 0.9790\n",
      "with 1 residuals, test loss was 0.1201, test accuracy was 0.9790\n",
      "with 1 residuals, test loss was 0.1201, test accuracy was 0.9790\n",
      "with 1 residuals, test loss was 0.1201, test accuracy was 0.9790\n",
      "with 1 residuals, test loss was 0.1201, test accuracy was 0.9790\n",
      "with 1 residuals, test loss was 0.1201, test accuracy was 0.9790\n",
      "with 1 residuals, test loss was 0.1201, test accuracy was 0.9790\n",
      "with 1 residuals, test loss was 0.1201, test accuracy was 0.9790\n",
      "with 1 residuals, test loss was 0.1201, test accuracy was 0.9790\n",
      "with 1 residuals, test loss was 0.1201, test accuracy was 0.9790\n",
      "with 1 residuals, test loss was 0.1201, test accuracy was 0.9790\n",
      "with 1 residuals, test loss was 0.1201, test accuracy was 0.9790\n",
      "with 1 residuals, test loss was 0.1702, test accuracy was 0.9758\n",
      "with 1 residuals, test loss was 0.1726, test accuracy was 0.9759\n",
      "with 1 residuals, test loss was 0.1882, test accuracy was 0.9759\n",
      "with 1 residuals, test loss was 0.1854, test accuracy was 0.9759\n",
      "with 1 residuals, test loss was 0.1201, test accuracy was 0.9790\n",
      "with 1 residuals, test loss was 0.4654, test accuracy was 0.9631\n",
      "with 1 residuals, test loss was 0.1678, test accuracy was 0.9758\n",
      "with 1 residuals, test loss was 0.2713, test accuracy was 0.9726\n",
      "with 1 residuals, test loss was 0.1201, test accuracy was 0.9790\n",
      "with 1 residuals, test loss was 0.3788, test accuracy was 0.9664\n",
      "with 1 residuals, test loss was 0.5779, test accuracy was 0.9569\n",
      "with 1 residuals, test loss was 0.7543, test accuracy was 0.9477\n",
      "with 1 residuals, test loss was 1.0065, test accuracy was 0.9347\n",
      "with 1 residuals, test loss was 1.1083, test accuracy was 0.9319\n",
      "with 1 residuals, test loss was 1.2925, test accuracy was 0.9230\n",
      "with 1 residuals, test loss was 1.8558, test accuracy was 0.9002\n",
      "with 1 residuals, test loss was 1.5835, test accuracy was 0.9062\n",
      "with 1 residuals, test loss was 2.8570, test accuracy was 0.8466\n",
      "with 1 residuals, test loss was 4.0438, test accuracy was 0.7855\n",
      "with 1 residuals, test loss was 3.9981, test accuracy was 0.7879\n",
      "with 1 residuals, test loss was 5.3720, test accuracy was 0.7222\n",
      "with 1 residuals, test loss was 6.2417, test accuracy was 0.6802\n"
     ]
    }
   ],
   "source": [
    "# test the neural network with varying error probabilities\n",
    "probs = np.logspace(-7, -1)\n",
    "errors = []\n",
    "\n",
    "for p in probs:\n",
    "    prob = p\n",
    "    model.compile(loss='categorical_crossentropy',optimizer=opt,metrics=['accuracy'])\n",
    "    #model.summary()\n",
    "    score=model.evaluate(X_test,Y_test,verbose=0)\n",
    "    print(\"with %d residuals, test loss was %0.4f, test accuracy was %0.4f\"%(resid_levels,score[0],score[1]))\n",
    "    errors = errors + [score[1]]\n",
    "    "
   ]
  },
  {
   "cell_type": "code",
   "execution_count": 30,
   "id": "20edd227",
   "metadata": {},
   "outputs": [
    {
     "data": {
      "text/plain": [
       "[<matplotlib.lines.Line2D at 0x7fa04bc76a30>]"
      ]
     },
     "execution_count": 30,
     "metadata": {},
     "output_type": "execute_result"
    },
    {
     "data": {
      "image/png": "[encoded data removed]",
      "text/plain": [
       "<Figure size 432x288 with 1 Axes>"
      ]
     },
     "metadata": {
      "needs_background": "light"
     },
     "output_type": "display_data"
    }
   ],
   "source": [
    "# plot the results\n",
    "plt.plot(probs, errors)"
   ]
  },
  {
   "cell_type": "code",
   "execution_count": null,
   "id": "0b51242a",
   "metadata": {},
   "outputs": [],
   "source": [
    "## this function computes the probabiblities of errors, given the parameters of the resistive memory and the threshold\n",
    "from scipy.stats import norm\n",
    "\n",
    "\n",
    "def computeP(n, mu_L, mu_H, var_L, var_H, threshold):\n",
    "    p01 = []\n",
    "    p10 = []\n",
    "    means = [m * mu_L + (n - 1 - m) * mu_H for m in range(0, n)]\n",
    "    variances = [m**2 * var_L + (n - 1 - m)**2 * var_H for m in range(0, n)]\n",
    "    for t in range(0,n):\n",
    "        if t < n - 1 - t:\n",
    "            p01 = p01 + [1 - norm.cdf(threshold, means[t], np.sqrt(variances[t]))]\n",
    "        if t > n - 1 - t:\n",
    "            p10 = p10 + [norm.cdf(threshold, means[t], np.sqrt(variances[t]))]\n",
    "    return p01, p10"
   ]
  }
 ],
 "metadata": {
  "kernelspec": {
   "display_name": "Python 3 (ipykernel)",
   "language": "python",
   "name": "python3"
  },
  "language_info": {
   "codemirror_mode": {
    "name": "ipython",
    "version": 3
   },
   "file_extension": ".py",
   "mimetype": "text/x-python",
   "name": "python",
   "nbconvert_exporter": "python",
   "pygments_lexer": "ipython3",
   "version": "3.8.12"
  },
  "widgets": {
   "state": {},
   "version": "1.1.2"
  }
 },
 "nbformat": 4,
 "nbformat_minor": 5
}
