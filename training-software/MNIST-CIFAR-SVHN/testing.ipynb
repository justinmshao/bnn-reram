{
 "cells": [
  {
   "cell_type": "markdown",
   "id": "63d56a40",
   "metadata": {},
   "source": [
    "## This code implements the neural network, simulating errors by flipping the sign of the weights of the activation layer, given some probability\n",
    "\n",
    "-"
   ]
  },
  {
   "cell_type": "code",
   "execution_count": 1,
   "id": "50c67a0d",
   "metadata": {},
   "outputs": [],
   "source": [
    "import numpy as np\n",
    "import pickle\n",
    "import matplotlib.pyplot as plt\n",
    "import tensorflow\n",
    "import matplotlib\n",
    "from tensorflow import keras\n",
    "from tensorflow.keras.datasets import cifar10,mnist\n",
    "from tensorflow.keras.utils import to_categorical\n",
    "from tensorflow.keras.optimizers import SGD\n",
    "from tensorflow.keras import backend as K\n",
    "from tensorflow.keras.models import load_model\n",
    "from tensorflow.keras.preprocessing.image import ImageDataGenerator\n",
    "import os\n",
    "import sys\n",
    "sys.path.insert(0, '..')\n",
    "from binarization_utils import *\n",
    "from model_architectures import get_model\n",
    "\n",
    "from tensorflow.keras import activations"
   ]
  },
  {
   "cell_type": "code",
   "execution_count": 2,
   "id": "35228f44",
   "metadata": {},
   "outputs": [
    {
     "name": "stdout",
     "output_type": "stream",
     "text": [
      "2.4.4\n",
      "2.4.0\n"
     ]
    }
   ],
   "source": [
    "print(tf.__version__) #2.4.4\n",
    "print(keras.__version__) #2.4.0"
   ]
  },
  {
   "cell_type": "code",
   "execution_count": 31,
   "id": "621702cd",
   "metadata": {},
   "outputs": [],
   "source": [
    "dataset='CIFAR-10'\n",
    "Train=False\n",
    "Evaluate=True\n",
    "batch_size=100\n",
    "epochs=200"
   ]
  },
  {
   "cell_type": "code",
   "execution_count": 32,
   "id": "18393354",
   "metadata": {},
   "outputs": [],
   "source": [
    "if dataset==\"MNIST\":\n",
    "    (X_train, y_train), (X_test, y_test) = mnist.load_data()\n",
    "    # convert class vectors to binary class matrices\n",
    "    X_train = X_train.reshape(-1,784)\n",
    "    X_test = X_test.reshape(-1,784)\n",
    "    use_generator=False\n",
    "elif dataset==\"CIFAR-10\":\n",
    "    use_generator=True\n",
    "    (X_train, y_train), (X_test, y_test) = cifar10.load_data()"
   ]
  },
  {
   "cell_type": "code",
   "execution_count": 33,
   "id": "e74c7aec",
   "metadata": {},
   "outputs": [
    {
     "name": "stdout",
     "output_type": "stream",
     "text": [
      "X_train shape: (50000, 32, 32, 3)\n",
      "50000 train samples\n",
      "10000 test samples\n"
     ]
    }
   ],
   "source": [
    "X_train=X_train.astype(np.float32)\n",
    "X_test=X_test.astype(np.float32)\n",
    "Y_train = to_categorical(y_train, 10)\n",
    "Y_test = to_categorical(y_test, 10)\n",
    "X_train /= 255\n",
    "X_test /= 255\n",
    "X_train=2*X_train-1\n",
    "X_test=2*X_test-1\n",
    "\n",
    "\n",
    "print('X_train shape:', X_train.shape)\n",
    "print(X_train.shape[0], 'train samples')\n",
    "print(X_test.shape[0], 'test samples')"
   ]
  },
  {
   "cell_type": "code",
   "execution_count": 34,
   "id": "949e2086",
   "metadata": {},
   "outputs": [
    {
     "name": "stderr",
     "output_type": "stream",
     "text": [
      "Clipping input data to the valid range for imshow with RGB data ([0..1] for floats or [0..255] for integers).\n"
     ]
    },
    {
     "data": {
      "image/png": "[encoded data removed]",
      "text/plain": [
       "<Figure size 432x288 with 1 Axes>"
      ]
     },
     "metadata": {
      "needs_background": "light"
     },
     "output_type": "display_data"
    }
   ],
   "source": [
    "if dataset==\"CIFAR-10\":\n",
    "    plt.imshow(X_train[1])"
   ]
  },
  {
   "cell_type": "code",
   "execution_count": 40,
   "id": "df767f24",
   "metadata": {},
   "outputs": [],
   "source": [
    "# the following cell block defines the activation layer that simulates the errors\n",
    "\n",
    "# prob stores the probability of a sign flipping (1 -> -1 or -1 -> 1)\n",
    "prob = 0\n",
    "    \n",
    "class Nonideal_sign(Layer):\n",
    "    def __init__(self, levels=1,**kwargs):\n",
    "        self.levels=levels\n",
    "        super(Nonideal_sign, self).__init__(**kwargs)\n",
    "    def build(self, input_shape):\n",
    "        ars=np.arange(self.levels)+1.0\n",
    "        ars=ars[::-1]\n",
    "        means=ars/np.sum(ars)\n",
    "        self.means=[K.variable(m) for m in means]\n",
    "        self._trainable_weights = self.means\n",
    "    def call(self, x, mask=None):\n",
    "        resid = x\n",
    "        out_bin=0\n",
    "        for l in range(self.levels):\n",
    "            out=binarize(resid)*(K.abs(self.means[l]))*((2*tf.cast(tf.random.uniform(self.means[l].shape) > prob, tf.float32)) - 1)\n",
    "            out_bin=out_bin+out\n",
    "            resid=resid-out\n",
    "        return out_bin\n",
    "    \n",
    "        # the following lines were an idea to implement flips using tensor operations\n",
    "        '''positive_mask = tf.cast(out_bin > 0, tf.float32)\n",
    "        negative_mask = tf.cast(out_bin < 0, tf.float32)\n",
    "        \n",
    "        positive_flips = tf.random.uniform(out_bin.shape) < p[1]\n",
    "        positives = tf.math.multiply(positive_mask, (tf.cast(tf.random.uniform(out_bin.shape) < p[1], tf.float32) - 1))\n",
    "        negatives = tf.math.multiply(negative_mask, (tf.cast(tf.random.uniform(out_bin.shape) < p[0], tf.float32) - 1))\n",
    "        return'''\n",
    "\n",
    "    def get_output_shape_for(self,input_shape):\n",
    "        return input_shape\n",
    "    def compute_output_shape(self,input_shape):\n",
    "        return input_shape\n",
    "    def set_means(self,X):\n",
    "        means=np.zeros((self.levels))\n",
    "        means[0]=1\n",
    "        resid=np.clip(X,-1,1)\n",
    "        approx=0\n",
    "        for l in range(self.levels):\n",
    "            m=np.mean(np.absolute(resid))\n",
    "            out=np.sign(resid)*m\n",
    "            approx=approx+out\n",
    "            resid=resid-out\n",
    "            means[l]=m\n",
    "            err=np.mean((approx-np.clip(X,-1,1))**2)\n",
    "\n",
    "        means=means/np.sum(means)\n",
    "        sess=K.get_session()\n",
    "        sess.run(self.means.assign(means))"
   ]
  },
  {
   "cell_type": "code",
   "execution_count": 41,
   "id": "2110d3bf",
   "metadata": {},
   "outputs": [],
   "source": [
    "# construct the network\n",
    "\n",
    "resid_levels=1\n",
    "batch_norm_eps=1e-4\n",
    "batch_norm_alpha=0.1#(this is same as momentum)\n",
    "\n",
    "weights_path='models/'+dataset+'/'+str(resid_levels)+'_residuals.h5'\n",
    "if dataset==\"MNIST\":\n",
    "    model=Sequential()\n",
    "    model.add(binary_dense(n_in=784,n_out=256,input_shape=[784]))\n",
    "    model.add(BatchNormalization(axis=-1, momentum=batch_norm_alpha, epsilon=batch_norm_eps))\n",
    "    model.add(Nonideal_sign(levels=resid_levels))\n",
    "    model.add(binary_dense(n_in=int(model.output.get_shape()[1]),n_out=256))\n",
    "    model.add(BatchNormalization(axis=-1, momentum=batch_norm_alpha, epsilon=batch_norm_eps))\n",
    "    model.add(Nonideal_sign(levels=resid_levels))\n",
    "    model.add(binary_dense(n_in=int(model.output.get_shape()[1]),n_out=256))\n",
    "    model.add(BatchNormalization(axis=-1, momentum=batch_norm_alpha, epsilon=batch_norm_eps))\n",
    "    model.add(Nonideal_sign(levels=resid_levels))\n",
    "    model.add(binary_dense(n_in=int(model.output.get_shape()[1]),n_out=256))\n",
    "    model.add(BatchNormalization(axis=-1, momentum=batch_norm_alpha, epsilon=batch_norm_eps))\n",
    "    model.add(Nonideal_sign(levels=resid_levels))\n",
    "    model.add(binary_dense(n_in=int(model.output.get_shape()[1]),n_out=10))\n",
    "    model.add(BatchNormalization(axis=-1, momentum=batch_norm_alpha, epsilon=batch_norm_eps))\n",
    "    model.add(Activation('softmax'))\n",
    "elif dataset==\"CIFAR-10\":\n",
    "    model=Sequential()\n",
    "    model.add(binary_conv(nfilters=64,ch_in=3,k=3,padding='valid',input_shape=[32,32,3]))\n",
    "    model.add(BatchNormalization(axis=-1, momentum=batch_norm_alpha, epsilon=batch_norm_eps))\n",
    "    model.add(Nonideal_sign(levels=resid_levels))\n",
    "    model.add(binary_conv(nfilters=64,ch_in=64,k=3,padding='valid'))\n",
    "    model.add(BatchNormalization(axis=-1, momentum=batch_norm_alpha, epsilon=batch_norm_eps))\n",
    "    model.add(Nonideal_sign(levels=resid_levels))\n",
    "    model.add(MaxPooling2D(pool_size=(2, 2),strides=(2,2)))\n",
    "\n",
    "    model.add(binary_conv(nfilters=128,ch_in=64,k=3,padding='valid'))\n",
    "    model.add(BatchNormalization(axis=-1, momentum=batch_norm_alpha, epsilon=batch_norm_eps))\n",
    "    model.add(Nonideal_sign(levels=resid_levels))\n",
    "    model.add(binary_conv(nfilters=128,ch_in=128,k=3,padding='valid'))\n",
    "    model.add(BatchNormalization(axis=-1, momentum=batch_norm_alpha, epsilon=batch_norm_eps))\n",
    "    model.add(Nonideal_sign(levels=resid_levels))\n",
    "    model.add(MaxPooling2D(pool_size=(2, 2),strides=(2,2)))\n",
    "\n",
    "    model.add(binary_conv(nfilters=256,ch_in=128,k=3,padding='valid'))\n",
    "    model.add(BatchNormalization(axis=-1, momentum=batch_norm_alpha, epsilon=batch_norm_eps))\n",
    "    model.add(Nonideal_sign(levels=resid_levels))\n",
    "    model.add(binary_conv(nfilters=256,ch_in=256,k=3,padding='valid'))\n",
    "    model.add(BatchNormalization(axis=-1, momentum=batch_norm_alpha, epsilon=batch_norm_eps))\n",
    "    model.add(Nonideal_sign(levels=resid_levels))\n",
    "    #model.add(MaxPooling2D(pool_size=(2, 2),strides=(2,2)))\n",
    "\n",
    "    model.add(my_flat())\n",
    "\n",
    "    model.add(binary_dense(n_in=int(model.output.get_shape()[1]),n_out=512))\n",
    "    model.add(BatchNormalization(axis=-1, momentum=batch_norm_alpha, epsilon=batch_norm_eps))\n",
    "    model.add(Nonideal_sign(levels=resid_levels))\n",
    "    model.add(binary_dense(n_in=int(model.output.get_shape()[1]),n_out=512))\n",
    "    model.add(BatchNormalization(axis=-1, momentum=batch_norm_alpha, epsilon=batch_norm_eps))\n",
    "    model.add(Nonideal_sign(levels=resid_levels))\n",
    "    model.add(binary_dense(n_in=int(model.output.get_shape()[1]),n_out=10))\n",
    "    model.add(BatchNormalization(axis=-1, momentum=batch_norm_alpha, epsilon=batch_norm_eps))\n",
    "    model.add(Activation(activations.softmax))"
   ]
  },
  {
   "cell_type": "code",
   "execution_count": 42,
   "id": "803a9a82",
   "metadata": {},
   "outputs": [],
   "source": [
    "model.load_weights(weights_path)\n",
    "opt = keras.optimizers.Adam()"
   ]
  },
  {
   "cell_type": "code",
   "execution_count": 43,
   "id": "05428f73",
   "metadata": {
    "scrolled": true
   },
   "outputs": [
    {
     "name": "stdout",
     "output_type": "stream",
     "text": [
      "with 1 residuals, test loss was 3.9853, test accuracy was 0.1110\n"
     ]
    }
   ],
   "source": [
    "# probability of sign activation error\n",
    "prob = 1\n",
    "\n",
    "model.compile(loss='categorical_crossentropy',optimizer=opt,metrics=['accuracy'])\n",
    "#model.summary()\n",
    "score=model.evaluate(X_test,Y_test,verbose=0)\n",
    "print(\"with %d residuals, test loss was %0.4f, test accuracy was %0.4f\"%(resid_levels,score[0],score[1]))"
   ]
  },
  {
   "cell_type": "code",
   "execution_count": 44,
   "id": "d714b41a",
   "metadata": {},
   "outputs": [
    {
     "name": "stdout",
     "output_type": "stream",
     "text": [
      "with 1 residuals, test loss was 0.6251, test accuracy was 0.7870\n",
      "with 1 residuals, test loss was 0.6251, test accuracy was 0.7870\n",
      "with 1 residuals, test loss was 0.6251, test accuracy was 0.7870\n",
      "with 1 residuals, test loss was 0.6251, test accuracy was 0.7870\n",
      "with 1 residuals, test loss was 0.6251, test accuracy was 0.7870\n",
      "with 1 residuals, test loss was 0.6251, test accuracy was 0.7870\n",
      "with 1 residuals, test loss was 0.6251, test accuracy was 0.7870\n",
      "with 1 residuals, test loss was 0.6251, test accuracy was 0.7870\n",
      "with 1 residuals, test loss was 0.6251, test accuracy was 0.7870\n",
      "with 1 residuals, test loss was 0.6251, test accuracy was 0.7870\n",
      "with 1 residuals, test loss was 0.6251, test accuracy was 0.7870\n",
      "with 1 residuals, test loss was 0.6251, test accuracy was 0.7870\n",
      "with 1 residuals, test loss was 0.6251, test accuracy was 0.7870\n",
      "with 1 residuals, test loss was 0.6251, test accuracy was 0.7870\n",
      "with 1 residuals, test loss was 0.6438, test accuracy was 0.7849\n",
      "with 1 residuals, test loss was 0.6251, test accuracy was 0.7870\n",
      "with 1 residuals, test loss was 0.6251, test accuracy was 0.7870\n",
      "with 1 residuals, test loss was 0.6251, test accuracy was 0.7870\n",
      "with 1 residuals, test loss was 0.6251, test accuracy was 0.7870\n",
      "with 1 residuals, test loss was 0.6251, test accuracy was 0.7870\n",
      "with 1 residuals, test loss was 0.6251, test accuracy was 0.7870\n",
      "with 1 residuals, test loss was 0.6251, test accuracy was 0.7870\n",
      "with 1 residuals, test loss was 0.6251, test accuracy was 0.7870\n",
      "with 1 residuals, test loss was 0.6251, test accuracy was 0.7870\n",
      "with 1 residuals, test loss was 0.6251, test accuracy was 0.7870\n",
      "with 1 residuals, test loss was 0.6251, test accuracy was 0.7870\n",
      "with 1 residuals, test loss was 0.6251, test accuracy was 0.7870\n",
      "with 1 residuals, test loss was 0.6453, test accuracy was 0.7844\n",
      "with 1 residuals, test loss was 0.6251, test accuracy was 0.7870\n",
      "with 1 residuals, test loss was 0.6399, test accuracy was 0.7846\n",
      "with 1 residuals, test loss was 0.6251, test accuracy was 0.7870\n",
      "with 1 residuals, test loss was 0.6830, test accuracy was 0.7801\n",
      "with 1 residuals, test loss was 0.6802, test accuracy was 0.7794\n",
      "with 1 residuals, test loss was 0.7124, test accuracy was 0.7747\n",
      "with 1 residuals, test loss was 0.7923, test accuracy was 0.7653\n",
      "with 1 residuals, test loss was 0.7262, test accuracy was 0.7741\n",
      "with 1 residuals, test loss was 0.6865, test accuracy was 0.7783\n",
      "with 1 residuals, test loss was 0.8711, test accuracy was 0.7610\n",
      "with 1 residuals, test loss was 0.7651, test accuracy was 0.7705\n",
      "with 1 residuals, test loss was 0.8961, test accuracy was 0.7559\n",
      "with 1 residuals, test loss was 1.0160, test accuracy was 0.7441\n",
      "with 1 residuals, test loss was 1.2231, test accuracy was 0.7197\n",
      "with 1 residuals, test loss was 1.3106, test accuracy was 0.7044\n",
      "with 1 residuals, test loss was 1.3160, test accuracy was 0.7021\n",
      "with 1 residuals, test loss was 1.7943, test accuracy was 0.6405\n",
      "with 1 residuals, test loss was 1.9274, test accuracy was 0.6284\n",
      "with 1 residuals, test loss was 2.2929, test accuracy was 0.5743\n",
      "with 1 residuals, test loss was 2.8839, test accuracy was 0.5058\n",
      "with 1 residuals, test loss was 3.3546, test accuracy was 0.4199\n",
      "with 1 residuals, test loss was 3.5533, test accuracy was 0.3941\n"
     ]
    }
   ],
   "source": [
    "# test the neural network with varying error probabilities\n",
    "probs = np.logspace(-7, -1)\n",
    "errors = []\n",
    "\n",
    "for p in probs:\n",
    "    prob = p\n",
    "    model.compile(loss='categorical_crossentropy',optimizer=opt,metrics=['accuracy'])\n",
    "    #model.summary()\n",
    "    score=model.evaluate(X_test,Y_test,verbose=0)\n",
    "    print(\"with %d residuals, test loss was %0.4f, test accuracy was %0.4f\"%(resid_levels,score[0],score[1]))\n",
    "    errors = errors + [score[1]]\n",
    "    "
   ]
  },
  {
   "cell_type": "code",
   "execution_count": 46,
   "id": "92b6ebed",
   "metadata": {
    "scrolled": true
   },
   "outputs": [
    {
     "data": {
      "text/plain": [
       "Text(0.5, 1.0, 'CIFAR-10 accuracy vs. weight sign error rate')"
      ]
     },
     "execution_count": 46,
     "metadata": {},
     "output_type": "execute_result"
    },
    {
     "data": {
      "image/png": "[encoded data removed]",
      "text/plain": [
       "<Figure size 432x288 with 1 Axes>"
      ]
     },
     "metadata": {
      "needs_background": "light"
     },
     "output_type": "display_data"
    }
   ],
   "source": [
    "# plot the results\n",
    "plt.plot(probs, errors)\n",
    "plt.title(dataset + ' accuracy vs. weight sign error rate')"
   ]
  },
  {
   "cell_type": "code",
   "execution_count": 6,
   "id": "ced68ed0",
   "metadata": {},
   "outputs": [],
   "source": [
    "## this function computes the probabiblities of errors, given the parameters of the resistive memory and the threshold\n",
    "from scipy.stats import norm\n",
    "\n",
    "\n",
    "def computeP(n, mu_L, mu_H, var_L, var_H, threshold):\n",
    "    n_dists = n + 1\n",
    "    p01 = []\n",
    "    p10 = []\n",
    "    means = [m * mu_L + (n_dists - 1 - m) * mu_H for m in range(0, n_dists)]\n",
    "    variances = [m**2 * var_L + (n_dists - 1 - m)**2 * var_H for m in range(0, n_dists)]\n",
    "    for t in range(0,n_dists):\n",
    "        if t < n_dists - 1 - t:\n",
    "            p01 = p01 + [1 - norm.cdf(threshold, means[t], np.sqrt(variances[t]))]\n",
    "        if t > n_dists - 1 - t:\n",
    "            p10 = p10 + [norm.cdf(threshold, means[t], np.sqrt(variances[t]))]\n",
    "    return p01, p10"
   ]
  },
  {
   "cell_type": "code",
   "execution_count": 9,
   "id": "698051a6",
   "metadata": {},
   "outputs": [
    {
     "data": {
      "text/plain": [
       "([0.7976716190363569,\n",
       "  0.8522835747803423,\n",
       "  0.8958593968155752,\n",
       "  0.9234790579205899,\n",
       "  0.9361471889225159],\n",
       " [0.06194565958343848,\n",
       "  0.06680720126885807,\n",
       "  0.07554187884287195,\n",
       "  0.08617385200858313,\n",
       "  0.09742532430443479])"
      ]
     },
     "execution_count": 9,
     "metadata": {},
     "output_type": "execute_result"
    }
   ],
   "source": [
    "import numpy as np\n",
    "computeP(5, 2, 1, 2, 1, 1.5)"
   ]
  },
  {
   "cell_type": "code",
   "execution_count": null,
   "id": "8e503049",
   "metadata": {},
   "outputs": [],
   "source": []
  }
 ],
 "metadata": {
  "kernelspec": {
   "display_name": "Python 3 (ipykernel)",
   "language": "python",
   "name": "python3"
  },
  "language_info": {
   "codemirror_mode": {
    "name": "ipython",
    "version": 3
   },
   "file_extension": ".py",
   "mimetype": "text/x-python",
   "name": "python",
   "nbconvert_exporter": "python",
   "pygments_lexer": "ipython3",
   "version": "3.8.12"
  },
  "widgets": {
   "state": {},
   "version": "1.1.2"
  }
 },
 "nbformat": 4,
 "nbformat_minor": 5
}
